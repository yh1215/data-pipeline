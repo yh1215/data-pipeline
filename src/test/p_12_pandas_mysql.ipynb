{
 "cells": [
  {
   "cell_type": "code",
   "execution_count": 1,
   "metadata": {},
   "outputs": [],
   "source": [
    "import pymysql"
   ]
  },
  {
   "cell_type": "code",
   "execution_count": 2,
   "metadata": {},
   "outputs": [],
   "source": [
    "host = 'host.docker.internal'\n",
    "port = 3306\n",
    "user = 'root'\n",
    "passwd = 'password'\n",
    "db = 'TESTDB'\n",
    "charset = 'utf8mb4'"
   ]
  },
  {
   "cell_type": "code",
   "execution_count": 3,
   "metadata": {},
   "outputs": [
    {
     "name": "stdout",
     "output_type": "stream",
     "text": [
      "Successfully connected!\n"
     ]
    }
   ],
   "source": [
    "conn = pymysql.connect(host=host, port=port, user=user, passwd=passwd, db=db, charset=charset)\n",
    "print('Successfully connected!')"
   ]
  },
  {
   "cell_type": "code",
   "execution_count": 4,
   "metadata": {},
   "outputs": [],
   "source": [
    "cursor = conn.cursor()"
   ]
  },
  {
   "cell_type": "code",
   "execution_count": 5,
   "metadata": {},
   "outputs": [
    {
     "data": {
      "text/plain": [
       "1"
      ]
     },
     "execution_count": 5,
     "metadata": {},
     "output_type": "execute_result"
    }
   ],
   "source": [
    "sql = \"\"\"\n",
    "INSERT INTO Staff (ID, Name, DeptId, Age, Gender, Salary, recordDt)\n",
    "VALUES ('001', 'Mike', '002', 45, 'M', 60000, '2020-04-24 14:59:57');\n",
    "\"\"\"\n",
    "\n",
    "# 將指令放進 cursor 物件，並執行\n",
    "cursor.execute(sql)"
   ]
  },
  {
   "cell_type": "code",
   "execution_count": 6,
   "metadata": {},
   "outputs": [],
   "source": [
    "# commit when: Insert\\Select\\Update\\Delete\n",
    "conn.commit()"
   ]
  },
  {
   "cell_type": "code",
   "execution_count": 7,
   "metadata": {},
   "outputs": [
    {
     "data": {
      "text/plain": [
       "1"
      ]
     },
     "execution_count": 7,
     "metadata": {},
     "output_type": "execute_result"
    }
   ],
   "source": [
    "select_sql = \"\"\"\n",
    "select * from staff\n",
    "\"\"\"\n",
    "cursor.execute(select_sql)"
   ]
  },
  {
   "cell_type": "code",
   "execution_count": 8,
   "metadata": {},
   "outputs": [
    {
     "data": {
      "text/plain": [
       "(('001',\n",
       "  'Mike',\n",
       "  '002',\n",
       "  45,\n",
       "  'M',\n",
       "  60000,\n",
       "  datetime.datetime(2020, 4, 24, 14, 59, 57)),)"
      ]
     },
     "execution_count": 8,
     "metadata": {},
     "output_type": "execute_result"
    }
   ],
   "source": [
    "# extract data\n",
    "cursor.fetchall()"
   ]
  },
  {
   "cell_type": "code",
   "execution_count": 10,
   "metadata": {},
   "outputs": [
    {
     "data": {
      "text/plain": [
       "1"
      ]
     },
     "execution_count": 10,
     "metadata": {},
     "output_type": "execute_result"
    }
   ],
   "source": [
    "cursor.execute(\"delete from staff where ID = '001'\")"
   ]
  },
  {
   "cell_type": "code",
   "execution_count": 9,
   "metadata": {},
   "outputs": [],
   "source": [
    "# insert multiple data\n",
    "data = [('001', 'Mike', '002', '45', 'M', '60000', '2020-10-13 21:41:49'),\n",
    " ('002', 'Judy', '002', '30', 'F', '48000', '2020-10-13 21:41:49'),\n",
    " ('003', 'Allen', '001', '22', 'M', '50000', '2020-10-13 21:41:49'),\n",
    " ('004', 'Tom', '002', '47', 'M', '47000', '2020-10-13 21:41:49'),\n",
    " ('005', 'Jack', '003', '36', 'M', '52000', '2020-10-13 21:41:49'),\n",
    " ('006', 'Abby', '002', '24', 'F', '45000', '2020-10-13 21:41:49'),\n",
    " ('007', 'Trump', '001', '80', 'M', '80000', '2020-10-13 21:41:49'),\n",
    " ('008', 'Marry', '003', '29', 'F', '87000', '2020-10-13 21:41:49')]\n",
    "\n",
    "sql_insert = \"\"\"\n",
    "INSERT INTO Staff (ID, Name, DeptId, Age, Gender, Salary, recordDt)\n",
    "VALUES(%s, %s, %s, %s, %s, %s, %s)\n",
    "\"\"\""
   ]
  },
  {
   "cell_type": "code",
   "execution_count": 11,
   "metadata": {},
   "outputs": [
    {
     "data": {
      "text/plain": [
       "8"
      ]
     },
     "execution_count": 11,
     "metadata": {},
     "output_type": "execute_result"
    }
   ],
   "source": [
    "cursor.executemany(sql_insert, data)"
   ]
  },
  {
   "cell_type": "code",
   "execution_count": 12,
   "metadata": {},
   "outputs": [],
   "source": [
    "conn.commit()"
   ]
  },
  {
   "cell_type": "code",
   "execution_count": 15,
   "metadata": {},
   "outputs": [
    {
     "data": {
      "text/plain": [
       "8"
      ]
     },
     "execution_count": 15,
     "metadata": {},
     "output_type": "execute_result"
    }
   ],
   "source": [
    "cursor.execute('select * from staff')"
   ]
  },
  {
   "cell_type": "code",
   "execution_count": 16,
   "metadata": {},
   "outputs": [],
   "source": [
    "db_data = cursor.fetchall()"
   ]
  },
  {
   "cell_type": "code",
   "execution_count": 17,
   "metadata": {},
   "outputs": [
    {
     "data": {
      "text/plain": [
       "(('001',\n",
       "  'Mike',\n",
       "  '002',\n",
       "  45,\n",
       "  'M',\n",
       "  60000,\n",
       "  datetime.datetime(2020, 10, 13, 21, 41, 49)),\n",
       " ('002',\n",
       "  'Judy',\n",
       "  '002',\n",
       "  30,\n",
       "  'F',\n",
       "  48000,\n",
       "  datetime.datetime(2020, 10, 13, 21, 41, 49)),\n",
       " ('003',\n",
       "  'Allen',\n",
       "  '001',\n",
       "  22,\n",
       "  'M',\n",
       "  50000,\n",
       "  datetime.datetime(2020, 10, 13, 21, 41, 49)),\n",
       " ('004',\n",
       "  'Tom',\n",
       "  '002',\n",
       "  47,\n",
       "  'M',\n",
       "  47000,\n",
       "  datetime.datetime(2020, 10, 13, 21, 41, 49)),\n",
       " ('005',\n",
       "  'Jack',\n",
       "  '003',\n",
       "  36,\n",
       "  'M',\n",
       "  52000,\n",
       "  datetime.datetime(2020, 10, 13, 21, 41, 49)),\n",
       " ('006',\n",
       "  'Abby',\n",
       "  '002',\n",
       "  24,\n",
       "  'F',\n",
       "  45000,\n",
       "  datetime.datetime(2020, 10, 13, 21, 41, 49)),\n",
       " ('007',\n",
       "  'Trump',\n",
       "  '001',\n",
       "  80,\n",
       "  'M',\n",
       "  80000,\n",
       "  datetime.datetime(2020, 10, 13, 21, 41, 49)),\n",
       " ('008',\n",
       "  'Marry',\n",
       "  '003',\n",
       "  29,\n",
       "  'F',\n",
       "  87000,\n",
       "  datetime.datetime(2020, 10, 13, 21, 41, 49)))"
      ]
     },
     "execution_count": 17,
     "metadata": {},
     "output_type": "execute_result"
    }
   ],
   "source": [
    "db_data"
   ]
  },
  {
   "cell_type": "code",
   "execution_count": 18,
   "metadata": {},
   "outputs": [],
   "source": [
    "cursor.close()\n",
    "conn.close()"
   ]
  },
  {
   "cell_type": "code",
   "execution_count": null,
   "metadata": {},
   "outputs": [],
   "source": []
  },
  {
   "cell_type": "code",
   "execution_count": null,
   "metadata": {},
   "outputs": [],
   "source": []
  },
  {
   "cell_type": "code",
   "execution_count": null,
   "metadata": {},
   "outputs": [],
   "source": []
  },
  {
   "cell_type": "code",
   "execution_count": null,
   "metadata": {},
   "outputs": [],
   "source": []
  },
  {
   "cell_type": "code",
   "execution_count": null,
   "metadata": {},
   "outputs": [],
   "source": []
  }
 ],
 "metadata": {
  "kernelspec": {
   "display_name": "Python 3",
   "language": "python",
   "name": "python3"
  },
  "language_info": {
   "codemirror_mode": {
    "name": "ipython",
    "version": 3
   },
   "file_extension": ".py",
   "mimetype": "text/x-python",
   "name": "python",
   "nbconvert_exporter": "python",
   "pygments_lexer": "ipython3",
   "version": "3.12.4"
  }
 },
 "nbformat": 4,
 "nbformat_minor": 2
}
