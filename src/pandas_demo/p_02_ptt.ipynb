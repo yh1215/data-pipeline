{
 "cells": [
  {
   "cell_type": "code",
   "execution_count": 1,
   "metadata": {},
   "outputs": [],
   "source": [
    "import pandas as pd\n",
    "import os\n",
    "import glob"
   ]
  },
  {
   "cell_type": "code",
   "execution_count": 4,
   "metadata": {},
   "outputs": [],
   "source": [
    "# get all path\n",
    "\n",
    "path_list = glob.glob('/workspaces/demo-devcontainer-main/res_gossiping/*.txt')"
   ]
  },
  {
   "cell_type": "code",
   "execution_count": 9,
   "metadata": {},
   "outputs": [],
   "source": [
    "data = []\n",
    "\n",
    "for path in path_list:\n",
    "    with open(path, 'r') as f:\n",
    "        # get all texts in artical\n",
    "        artical_str = f.read()\n",
    "    # split str in artical with ---split--- and get reply_info\n",
    "    reply_info_str = artical_str.split('---split---')[1]\n",
    "    # split str in reply_info_str with \\n and drop head and end space data\n",
    "    reply_info_list = reply_info_str.split('\\n')[1:-1]\n",
    "    data.append(reply_info_list)\n",
    "    # print(reply_list)\n",
    "    # print('===')"
   ]
  },
  {
   "cell_type": "code",
   "execution_count": 10,
   "metadata": {},
   "outputs": [],
   "source": [
    "columns = ['推',\n",
    "'噓',\n",
    "'分數',\n",
    "'作者',\n",
    "'標題',\n",
    "'時間']"
   ]
  },
  {
   "cell_type": "code",
   "execution_count": 11,
   "metadata": {},
   "outputs": [
    {
     "data": {
      "text/html": [
       "<div>\n",
       "<style scoped>\n",
       "    .dataframe tbody tr th:only-of-type {\n",
       "        vertical-align: middle;\n",
       "    }\n",
       "\n",
       "    .dataframe tbody tr th {\n",
       "        vertical-align: top;\n",
       "    }\n",
       "\n",
       "    .dataframe thead th {\n",
       "        text-align: right;\n",
       "    }\n",
       "</style>\n",
       "<table border=\"1\" class=\"dataframe\">\n",
       "  <thead>\n",
       "    <tr style=\"text-align: right;\">\n",
       "      <th></th>\n",
       "      <th>推</th>\n",
       "      <th>噓</th>\n",
       "      <th>分數</th>\n",
       "      <th>作者</th>\n",
       "      <th>標題</th>\n",
       "      <th>時間</th>\n",
       "    </tr>\n",
       "  </thead>\n",
       "  <tbody>\n",
       "    <tr>\n",
       "      <th>0</th>\n",
       "      <td>推: 25</td>\n",
       "      <td>噓: 4</td>\n",
       "      <td>分數: 21</td>\n",
       "      <td>作者: Rusnake5566 (魯蛇+56 PTT最強帳號)</td>\n",
       "      <td>標題: [問卦] 兩個候選人選前一個月同時陣亡的可能性</td>\n",
       "      <td>時間: Fri Oct  2 13:56:39 2020</td>\n",
       "    </tr>\n",
       "    <tr>\n",
       "      <th>1</th>\n",
       "      <td>推: 11</td>\n",
       "      <td>噓: 11</td>\n",
       "      <td>分數: 0</td>\n",
       "      <td>作者: LoveMakeLove (ボケ)</td>\n",
       "      <td>標題: [新聞]江啟臣：兩岸是不對稱的戰爭 從募兵改徵兵</td>\n",
       "      <td>時間: Wed Oct  7 18:53:08 2020</td>\n",
       "    </tr>\n",
       "    <tr>\n",
       "      <th>2</th>\n",
       "      <td>推: 20</td>\n",
       "      <td>噓: 0</td>\n",
       "      <td>分數: 20</td>\n",
       "      <td>作者: MintSu (Simon)</td>\n",
       "      <td>標題: [問卦] 如果川普老婆死於武漢肺炎會怎麼樣？</td>\n",
       "      <td>時間: Fri Oct  2 13:30:55 2020</td>\n",
       "    </tr>\n",
       "    <tr>\n",
       "      <th>3</th>\n",
       "      <td>推: 31</td>\n",
       "      <td>噓: 2</td>\n",
       "      <td>分數: 29</td>\n",
       "      <td>作者: seiya2000 (風見)</td>\n",
       "      <td>標題: [問卦] 為什麼古代生物體型可以長到這麼大？</td>\n",
       "      <td>時間: Fri Oct  2 12:35:18 2020</td>\n",
       "    </tr>\n",
       "    <tr>\n",
       "      <th>4</th>\n",
       "      <td>推: 106</td>\n",
       "      <td>噓: 6</td>\n",
       "      <td>分數: 100</td>\n",
       "      <td>作者: kasumi5566 (霞)</td>\n",
       "      <td>標題: [問卦] 支那女生是不是都沒錢修補衣服</td>\n",
       "      <td>時間: Fri Oct  2 13:43:25 2020</td>\n",
       "    </tr>\n",
       "    <tr>\n",
       "      <th>...</th>\n",
       "      <td>...</td>\n",
       "      <td>...</td>\n",
       "      <td>...</td>\n",
       "      <td>...</td>\n",
       "      <td>...</td>\n",
       "      <td>...</td>\n",
       "    </tr>\n",
       "    <tr>\n",
       "      <th>701</th>\n",
       "      <td>推: 5</td>\n",
       "      <td>噓: 0</td>\n",
       "      <td>分數: 5</td>\n",
       "      <td>作者: doraBBO (天才小釣手)</td>\n",
       "      <td>標題: [問卦] 為什麼要相信房子會跌不能買這種話？</td>\n",
       "      <td>時間: Wed Oct  7 19:37:00 2020</td>\n",
       "    </tr>\n",
       "    <tr>\n",
       "      <th>702</th>\n",
       "      <td>推: 7</td>\n",
       "      <td>噓: 0</td>\n",
       "      <td>分數: 7</td>\n",
       "      <td>作者: nothisman (在人海中迷失)</td>\n",
       "      <td>標題: [新聞] 地表「最胖肥熊」出爐！　635kg棕熊挺「</td>\n",
       "      <td>時間: Wed Oct  7 21:00:58 2020</td>\n",
       "    </tr>\n",
       "    <tr>\n",
       "      <th>703</th>\n",
       "      <td>推: 0</td>\n",
       "      <td>噓: 0</td>\n",
       "      <td>分數: 0</td>\n",
       "      <td>作者: wa778895 (oilsunbright)</td>\n",
       "      <td>標題: [問卦] 我是被下套了嗎？</td>\n",
       "      <td>時間: Wed Oct  7 21:27:26 2020</td>\n",
       "    </tr>\n",
       "    <tr>\n",
       "      <th>704</th>\n",
       "      <td>推: 15</td>\n",
       "      <td>噓: 4</td>\n",
       "      <td>分數: 11</td>\n",
       "      <td>作者: stan0720 (Kimo)</td>\n",
       "      <td>標題: [問卦] 認真問 人一天可以走幾公里呀？</td>\n",
       "      <td>時間: Fri Oct  2 14:00:50 2020</td>\n",
       "    </tr>\n",
       "    <tr>\n",
       "      <th>705</th>\n",
       "      <td>推: 5</td>\n",
       "      <td>噓: 0</td>\n",
       "      <td>分數: 5</td>\n",
       "      <td>作者: bigtreelife (Tree)</td>\n",
       "      <td>標題: [問卦] 叫外送的年輕人都是什麼人</td>\n",
       "      <td>時間: Fri Oct  2 15:29:44 2020</td>\n",
       "    </tr>\n",
       "  </tbody>\n",
       "</table>\n",
       "<p>706 rows × 6 columns</p>\n",
       "</div>"
      ],
      "text/plain": [
       "          推      噓       分數                               作者  \\\n",
       "0     推: 25   噓: 4   分數: 21  作者: Rusnake5566 (魯蛇+56 PTT最強帳號)   \n",
       "1     推: 11  噓: 11    分數: 0            作者: LoveMakeLove (ボケ)   \n",
       "2     推: 20   噓: 0   分數: 20               作者: MintSu (Simon)   \n",
       "3     推: 31   噓: 2   分數: 29               作者: seiya2000 (風見)   \n",
       "4    推: 106   噓: 6  分數: 100               作者: kasumi5566 (霞)   \n",
       "..      ...    ...      ...                              ...   \n",
       "701    推: 5   噓: 0    分數: 5              作者: doraBBO (天才小釣手)   \n",
       "702    推: 7   噓: 0    分數: 7           作者: nothisman (在人海中迷失)   \n",
       "703    推: 0   噓: 0    分數: 0      作者: wa778895 (oilsunbright)   \n",
       "704   推: 15   噓: 4   分數: 11              作者: stan0720 (Kimo)   \n",
       "705    推: 5   噓: 0    分數: 5           作者: bigtreelife (Tree)   \n",
       "\n",
       "                                 標題                            時間  \n",
       "0       標題: [問卦] 兩個候選人選前一個月同時陣亡的可能性  時間: Fri Oct  2 13:56:39 2020  \n",
       "1      標題: [新聞]江啟臣：兩岸是不對稱的戰爭 從募兵改徵兵  時間: Wed Oct  7 18:53:08 2020  \n",
       "2        標題: [問卦] 如果川普老婆死於武漢肺炎會怎麼樣？  時間: Fri Oct  2 13:30:55 2020  \n",
       "3        標題: [問卦] 為什麼古代生物體型可以長到這麼大？  時間: Fri Oct  2 12:35:18 2020  \n",
       "4           標題: [問卦] 支那女生是不是都沒錢修補衣服  時間: Fri Oct  2 13:43:25 2020  \n",
       "..                              ...                           ...  \n",
       "701      標題: [問卦] 為什麼要相信房子會跌不能買這種話？  時間: Wed Oct  7 19:37:00 2020  \n",
       "702  標題: [新聞] 地表「最胖肥熊」出爐！　635kg棕熊挺「  時間: Wed Oct  7 21:00:58 2020  \n",
       "703               標題: [問卦] 我是被下套了嗎？  時間: Wed Oct  7 21:27:26 2020  \n",
       "704        標題: [問卦] 認真問 人一天可以走幾公里呀？  時間: Fri Oct  2 14:00:50 2020  \n",
       "705           標題: [問卦] 叫外送的年輕人都是什麼人  時間: Fri Oct  2 15:29:44 2020  \n",
       "\n",
       "[706 rows x 6 columns]"
      ]
     },
     "execution_count": 11,
     "metadata": {},
     "output_type": "execute_result"
    }
   ],
   "source": [
    "# create df\n",
    "df = pd.DataFrame(data=data, columns=columns)\n",
    "\n",
    "df"
   ]
  },
  {
   "cell_type": "code",
   "execution_count": 12,
   "metadata": {},
   "outputs": [],
   "source": [
    "df.to_csv('ptt.csv', index=False)"
   ]
  },
  {
   "cell_type": "code",
   "execution_count": null,
   "metadata": {},
   "outputs": [],
   "source": []
  },
  {
   "cell_type": "code",
   "execution_count": null,
   "metadata": {},
   "outputs": [],
   "source": []
  },
  {
   "cell_type": "code",
   "execution_count": null,
   "metadata": {},
   "outputs": [],
   "source": []
  },
  {
   "cell_type": "code",
   "execution_count": null,
   "metadata": {},
   "outputs": [],
   "source": []
  },
  {
   "cell_type": "code",
   "execution_count": null,
   "metadata": {},
   "outputs": [],
   "source": []
  },
  {
   "cell_type": "code",
   "execution_count": null,
   "metadata": {},
   "outputs": [],
   "source": []
  },
  {
   "cell_type": "code",
   "execution_count": null,
   "metadata": {},
   "outputs": [],
   "source": []
  },
  {
   "cell_type": "code",
   "execution_count": null,
   "metadata": {},
   "outputs": [],
   "source": []
  },
  {
   "cell_type": "code",
   "execution_count": null,
   "metadata": {},
   "outputs": [],
   "source": []
  },
  {
   "cell_type": "code",
   "execution_count": null,
   "metadata": {},
   "outputs": [],
   "source": []
  },
  {
   "cell_type": "code",
   "execution_count": null,
   "metadata": {},
   "outputs": [],
   "source": []
  },
  {
   "cell_type": "code",
   "execution_count": null,
   "metadata": {},
   "outputs": [],
   "source": []
  }
 ],
 "metadata": {
  "kernelspec": {
   "display_name": "Python 3",
   "language": "python",
   "name": "python3"
  },
  "language_info": {
   "codemirror_mode": {
    "name": "ipython",
    "version": 3
   },
   "file_extension": ".py",
   "mimetype": "text/x-python",
   "name": "python",
   "nbconvert_exporter": "python",
   "pygments_lexer": "ipython3",
   "version": "3.12.4"
  }
 },
 "nbformat": 4,
 "nbformat_minor": 2
}
